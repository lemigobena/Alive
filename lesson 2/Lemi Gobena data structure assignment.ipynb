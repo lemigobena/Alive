{
 "cells": [
  {
   "cell_type": "markdown",
   "metadata": {},
   "source": [
    "1. Using Lists: Write a function that takes a list of numbers and returns a new list containing only the even numbers from the original list. Call this function with different lists and print the results."
   ]
  },
  {
   "cell_type": "code",
   "execution_count": 85,
   "metadata": {},
   "outputs": [],
   "source": [
    "def ev_no(z):\n",
    "    x = [y for y in z if y % 2 == 0]\n",
    "    return x"
   ]
  },
  {
   "cell_type": "code",
   "execution_count": 86,
   "metadata": {},
   "outputs": [],
   "source": [
    "a = [1, 2, 3, 4, 5, 6]\n",
    "b = [10, 15, 20, 25, 30]\n",
    "c = [11, 13, 17, 19, 23]"
   ]
  },
  {
   "cell_type": "code",
   "execution_count": 87,
   "metadata": {},
   "outputs": [
    {
     "name": "stdout",
     "output_type": "stream",
     "text": [
      "[2, 4, 6]\n",
      "[10, 20, 30]\n",
      "[]\n"
     ]
    }
   ],
   "source": [
    "\n",
    "print(ev_no(a))  \n",
    "print(ev_no(b))  \n",
    "print(ev_no(c))  "
   ]
  },
  {
   "cell_type": "markdown",
   "metadata": {},
   "source": [
    "2. Using Tuples: Write a function that takes a tuple of numbers and returns the maximum and minimum values in the tuple. Call this function with different tuples and print the results."
   ]
  },
  {
   "cell_type": "code",
   "execution_count": 88,
   "metadata": {},
   "outputs": [],
   "source": [
    "def MM(values):\n",
    "    min_value = min(values)\n",
    "    max_value = max(values)\n",
    "    return (min_value, max_value)"
   ]
  },
  {
   "cell_type": "code",
   "execution_count": 89,
   "metadata": {},
   "outputs": [],
   "source": [
    "a = (1, 2, 3, 4, 5, 6)\n",
    "b = (10, 15, 20, 25, 30)\n",
    "c = (11, 13, 17, 19, 23)"
   ]
  },
  {
   "cell_type": "code",
   "execution_count": 90,
   "metadata": {},
   "outputs": [
    {
     "name": "stdout",
     "output_type": "stream",
     "text": [
      "(1, 6)\n",
      "(10, 30)\n",
      "(11, 23)\n"
     ]
    }
   ],
   "source": [
    "print(MM(a))\n",
    "print(MM(b))\n",
    "print(MM(c))"
   ]
  },
  {
   "cell_type": "markdown",
   "metadata": {},
   "source": [
    "3. Using Dictionaries: Write a function that takes a dictionary where the keys are student names and the values are their scores. The function should return the name of the student with the highest score. Test this function with different dictionaries and print the results."
   ]
  },
  {
   "cell_type": "code",
   "execution_count": 91,
   "metadata": {},
   "outputs": [],
   "source": [
    "def TSt(scores):\n",
    "    tst = max(scores, key=scores.get)\n",
    "    return tst"
   ]
  },
  {
   "cell_type": "code",
   "execution_count": 92,
   "metadata": {},
   "outputs": [],
   "source": [
    "a = {\"Abebe\": 88, \"Chala\": 95, \"Kena\": 90}\n",
    "b = {\"Bona\": 70, \"Tola\": 80, \"Teka\": 85}\n",
    "c = {\"Geta\": 92, \"Hana\": 85, \"Blen\": 89}"
   ]
  },
  {
   "cell_type": "code",
   "execution_count": 93,
   "metadata": {},
   "outputs": [
    {
     "name": "stdout",
     "output_type": "stream",
     "text": [
      "Chala\n",
      "Teka\n",
      "Geta\n"
     ]
    }
   ],
   "source": [
    "print(TSt(a))\n",
    "print(TSt(b))\n",
    "print(TSt(c))"
   ]
  },
  {
   "cell_type": "markdown",
   "metadata": {},
   "source": [
    "4. Using Sets: Write a function that takes two lists of numbers and returns a set containing the common elements between the two lists. Call this function with different lists and print the results."
   ]
  },
  {
   "cell_type": "code",
   "execution_count": 94,
   "metadata": {},
   "outputs": [],
   "source": [
    "def intersection(l1, l2):\n",
    "    s1 = set(l1)\n",
    "    s2 = set(l2)\n",
    "    inter = s1 & s2\n",
    "    return inter"
   ]
  },
  {
   "cell_type": "code",
   "execution_count": 95,
   "metadata": {},
   "outputs": [],
   "source": [
    "a = [1, 2, 3, 4, 5]\n",
    "b = [4, 5, 6, 7, 8]\n",
    "c = [10, 11, 12]\n",
    "d = [12, 13, 14]"
   ]
  },
  {
   "cell_type": "code",
   "execution_count": 96,
   "metadata": {},
   "outputs": [
    {
     "name": "stdout",
     "output_type": "stream",
     "text": [
      "{4, 5}\n",
      "set()\n",
      "{12}\n"
     ]
    }
   ],
   "source": [
    "print(intersection(a, b))\n",
    "print(intersection(a, c))\n",
    "print(intersection(c, d))"
   ]
  },
  {
   "cell_type": "markdown",
   "metadata": {},
   "source": [
    "5. String Manipulation: Write a function that takes a string and returns a dictionary with the counts of each character in the string. Test this function with different strings and print the results."
   ]
  },
  {
   "cell_type": "code",
   "execution_count": 97,
   "metadata": {},
   "outputs": [],
   "source": [
    "def Cnt_Char(s):\n",
    "    x = {}\n",
    "    for char in s:\n",
    "        if char in x:\n",
    "            x[char] += 1\n",
    "        else:\n",
    "            x[char] = 1\n",
    "    return x"
   ]
  },
  {
   "cell_type": "code",
   "execution_count": 99,
   "metadata": {},
   "outputs": [],
   "source": [
    "a = \"hello\"\n",
    "b = \"lajcpsmzoijrnvczoivlsjdndjo\"\n",
    "c = \"aabbcc\""
   ]
  },
  {
   "cell_type": "code",
   "execution_count": 100,
   "metadata": {},
   "outputs": [
    {
     "name": "stdout",
     "output_type": "stream",
     "text": [
      "{'h': 1, 'e': 1, 'l': 2, 'o': 1}\n",
      "{'l': 2, 'a': 1, 'j': 4, 'c': 2, 'p': 1, 's': 2, 'm': 1, 'z': 2, 'o': 3, 'i': 2, 'r': 1, 'n': 2, 'v': 2, 'd': 2}\n",
      "{'a': 2, 'b': 2, 'c': 2}\n"
     ]
    }
   ],
   "source": [
    "print(Cnt_Char(a))\n",
    "print(Cnt_Char(b))\n",
    "print(Cnt_Char(c))"
   ]
  },
  {
   "cell_type": "markdown",
   "metadata": {},
   "source": [
    "6. Nested Data Structures: Write a function that takes a list of dictionaries, where each dictionary represents a student’s information (name, age, scores). The function should return a list of names of students who have an average score above 75. Test this function with different lists and print the results."
   ]
  },
  {
   "cell_type": "code",
   "execution_count": 101,
   "metadata": {},
   "outputs": [],
   "source": [
    "def above_avg(students):\n",
    "    name = []\n",
    "    for i in students:\n",
    "        scores = i[\"scores\"]\n",
    "        avg = sum(scores) / len(scores)\n",
    "        if avg > 75:\n",
    "            name.append(i[\"name\"])\n",
    "    return name\n"
   ]
  },
  {
   "cell_type": "code",
   "execution_count": 102,
   "metadata": {},
   "outputs": [],
   "source": [
    "a = [\n",
    "    {\"name\": \"Kena\", \"age\": 20, \"scores\": [80, 85, 90]},\n",
    "    {\"name\": \"Teka\", \"age\": 22, \"scores\": [70, 75, 65]},\n",
    "    {\"name\": \"Tola\", \"age\": 21, \"scores\": [78, 82, 79]}\n",
    "]\n",
    "\n",
    "b = [\n",
    "    {\"name\": \"Gebre\", \"age\": 23, \"scores\": [60, 65, 70]},\n",
    "    {\"name\": \"Haile\", \"age\": 24, \"scores\": [88, 92, 85]},\n",
    "    {\"name\": \"Kaleb\", \"age\": 25, \"scores\": [77, 73, 80]}\n",
    "]\n",
    "c = [\n",
    "    {\"name\": \"Lemi\", \"age\": 27, \"scores\": [52, 47, 60]},\n",
    "    {\"name\": \"Fita\", \"age\": 22, \"scores\": [78, 82, 55]},\n",
    "    {\"name\": \"Liben\", \"age\": 24, \"scores\": [67, 93, 85]}\n",
    "]"
   ]
  },
  {
   "cell_type": "code",
   "execution_count": 103,
   "metadata": {},
   "outputs": [
    {
     "name": "stdout",
     "output_type": "stream",
     "text": [
      "['Kena', 'Tola']\n",
      "['Haile', 'Kaleb']\n",
      "['Liben']\n"
     ]
    }
   ],
   "source": [
    "print(above_avg(a))\n",
    "print(above_avg(b))\n",
    "print(above_avg(c))"
   ]
  },
  {
   "cell_type": "markdown",
   "metadata": {},
   "source": [
    "7. Using List Comprehensions: Write a function that takes a list of numbers and returns a new list containing the squares of all the positive numbers in the original list using a list comprehension. Call this function with different lists and print the results."
   ]
  },
  {
   "cell_type": "code",
   "execution_count": 104,
   "metadata": {},
   "outputs": [],
   "source": [
    "def sqr(numbers):\n",
    "    positive_squares = [num ** 2 for num in numbers if num > 0]\n",
    "    return positive_squares"
   ]
  },
  {
   "cell_type": "code",
   "execution_count": 105,
   "metadata": {},
   "outputs": [],
   "source": [
    "a = [1, -2, 3, -4, 5]\n",
    "b = [-1, -3, 4, 6, -8]\n",
    "c = [0, 2, -5, 7, -9]"
   ]
  },
  {
   "cell_type": "code",
   "execution_count": 106,
   "metadata": {},
   "outputs": [
    {
     "name": "stdout",
     "output_type": "stream",
     "text": [
      "[1, 9, 25]\n",
      "[16, 36]\n",
      "[4, 49]\n"
     ]
    }
   ],
   "source": [
    "print(sqr(a))\n",
    "print(sqr(b))\n",
    "print(sqr(c))"
   ]
  },
  {
   "cell_type": "markdown",
   "metadata": {},
   "source": [
    "8. Combining Data Structures: Write a function that takes a dictionary where the keys are product names and the values are lists of prices. The function should return a new dictionary where each key is a product name and each value is the average price of that product. Test this function with different dictionaries and print the results."
   ]
  },
  {
   "cell_type": "code",
   "execution_count": 107,
   "metadata": {},
   "outputs": [],
   "source": [
    "def avg_pr(products):\n",
    "    avg_pri_dict = {}\n",
    "    for pd, pri in products.items():\n",
    "        avg_pri = sum(pri) / len(pri)\n",
    "        avg_pri_dict[pd] = avg_pri\n",
    "    return avg_pri_dict "
   ]
  },
  {
   "cell_type": "code",
   "execution_count": 108,
   "metadata": {},
   "outputs": [],
   "source": [
    "a = {\n",
    "    \"Phone\": [1000, 1200, 950],\n",
    "    \"Laptop\": [2100, 2200, 2350],\n",
    "    \"Desktop\": [1600, 1700, 1550]\n",
    "}\n",
    "\n",
    "b = {\n",
    "    \"Chocolate\": [7, 10, 20, 15],\n",
    "    \"Candy\": [2, 3, 1, 4],\n",
    "    \"Cake\": [100, 120]\n",
    "}\n",
    "c = {\n",
    "    \"Bycicle\": [4000, 4200],\n",
    "    \"Motor-cycle\": [1100, 12000, 9800],\n",
    "    \"Car\": [35000, 40000, 45000, 100000, 500000, 1000000]\n",
    "}\n"
   ]
  },
  {
   "cell_type": "code",
   "execution_count": 109,
   "metadata": {},
   "outputs": [
    {
     "name": "stdout",
     "output_type": "stream",
     "text": [
      "{'Phone': 1050.0, 'Laptop': 2216.6666666666665, 'Desktop': 1616.6666666666667}\n",
      "{'Chocolate': 13.0, 'Candy': 2.5, 'Cake': 110.0}\n",
      "{'Bycicle': 4100.0, 'Motor-cycle': 7633.333333333333, 'Car': 286666.6666666667}\n"
     ]
    }
   ],
   "source": [
    "print(avg_pr(a))\n",
    "print(avg_pr(b))\n",
    "print(avg_pr(c))"
   ]
  }
 ],
 "metadata": {
  "kernelspec": {
   "display_name": "Python 3",
   "language": "python",
   "name": "python3"
  },
  "language_info": {
   "codemirror_mode": {
    "name": "ipython",
    "version": 3
   },
   "file_extension": ".py",
   "mimetype": "text/x-python",
   "name": "python",
   "nbconvert_exporter": "python",
   "pygments_lexer": "ipython3",
   "version": "3.12.3"
  }
 },
 "nbformat": 4,
 "nbformat_minor": 2
}
