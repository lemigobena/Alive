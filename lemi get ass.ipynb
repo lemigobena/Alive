{
 "cells": [
  {
   "cell_type": "markdown",
   "metadata": {},
   "source": [
    "Question 1: Checking if a word is palindrome. You need to write a program that uses loop to check if a given string is a palindrome."
   ]
  },
  {
   "cell_type": "code",
   "execution_count": 2,
   "metadata": {},
   "outputs": [
    {
     "name": "stdout",
     "output_type": "stream",
     "text": [
      "It is not a palindrome.\n"
     ]
    }
   ],
   "source": [
    "s = input(\"\")\n",
    "s = s.lower()\n",
    "a = len(s)\n",
    "x = True\n",
    "for i in range(a // 2):\n",
    "    if s[i] != s[a - 1 - i]:\n",
    "        x = False\n",
    "        break\n",
    "\n",
    "if x:\n",
    "    print('It is a palindrome.')\n",
    "else:\n",
    "    print('It is not a palindrome.')"
   ]
  },
  {
   "cell_type": "markdown",
   "metadata": {},
   "source": [
    "Question 2: This question includes a reading assignment. Read about dictionary from your text book. The program you are going to write below counts the words in a given string where the key is the word and the value is the frequency of the word in the sentence."
   ]
  },
  {
   "cell_type": "code",
   "execution_count": 1,
   "metadata": {},
   "outputs": [
    {
     "name": "stdout",
     "output_type": "stream",
     "text": [
      "'i': 1\n",
      "'am': 1\n",
      "'lemi': 1\n",
      "'getahun': 1\n",
      "'ababa': 2\n"
     ]
    }
   ],
   "source": [
    "s = input(\"\")\n",
    "x = s.lower().split()\n",
    "sd = {}\n",
    "for i in x:\n",
    "    if i in sd:\n",
    "        sd[i] += 1\n",
    "    else:\n",
    "        sd[i] = 1\n",
    "for a, b in sd.items():\n",
    "    print(f\"'{a}': {b}\")"
   ]
  },
  {
   "cell_type": "markdown",
   "metadata": {},
   "source": [
    "Question 3: Write a program that removes stop words such as the, is, an, a, and so on. From a string. Use this link (https://countwordsfree.com/stopwords) to use at least 10 stop words that you are going to remove the string."
   ]
  },
  {
   "cell_type": "code",
   "execution_count": 2,
   "metadata": {},
   "outputs": [
    {
     "name": "stdout",
     "output_type": "stream",
     "text": [
      "i am boss city\n"
     ]
    }
   ],
   "source": [
    "x = [\"the\", \"is\", \"an\", \"a\", \"and\", \"in\", \"to\", \"of\", \"it\", \"that\", \"on\", \"for\", \"with\", \"as\", \"was\", \"at\"]\n",
    "s = input(\"Enter a sentence: \")\n",
    "y = s.lower()\n",
    "z = y.split()\n",
    "a = []\n",
    "for i in z:\n",
    "    if i in x:\n",
    "        continue\n",
    "    else:\n",
    "        a.append(i)\n",
    "print(' '.join(a))"
   ]
  },
  {
   "cell_type": "markdown",
   "metadata": {},
   "source": [
    "Question 1: Write a python program that accepts a positive number and prints the sum of the digits in the number. i.e. if the number is 576, it should print 18 = 5 + 7 + 6."
   ]
  },
  {
   "cell_type": "code",
   "execution_count": 3,
   "metadata": {},
   "outputs": [
    {
     "name": "stdout",
     "output_type": "stream",
     "text": [
      "23 = 2 + 3 + 6 + 5 + 4 + 3\n"
     ]
    }
   ],
   "source": [
    "x = input(\"\")\n",
    "sum = 0\n",
    "dg = []\n",
    "for i in x:\n",
    "    sum += int(i)\n",
    "    dg.append(str(int(i)))\n",
    "dt = ' + '.join(dg)\n",
    "print(f\"{sum} = {dt}\")"
   ]
  },
  {
   "cell_type": "markdown",
   "metadata": {},
   "source": [
    "Question 2: Write a python program that accepts a number and prints the sum of its factors."
   ]
  },
  {
   "cell_type": "code",
   "execution_count": 14,
   "metadata": {},
   "outputs": [
    {
     "name": "stdout",
     "output_type": "stream",
     "text": [
      "24\n"
     ]
    }
   ],
   "source": [
    "x = int(input())\n",
    "sum = 0\n",
    "for i in range(1, x // 2 + 1):\n",
    "    if x % i == 0:\n",
    "        sum += i\n",
    "sum += x\n",
    "print(sum)\n"
   ]
  },
  {
   "cell_type": "markdown",
   "metadata": {},
   "source": [
    "Question 3: Write a python program that generates a random number in the range 0 to 100 and prompts the user to guess and enter the number continuously until the user’s input matches the randomly generated number. The program should inform the user if his/her guess is less/more than the random number. if the user can't guess the value by entering at most 7 guesses the program should print GAME OVER"
   ]
  },
  {
   "cell_type": "code",
   "execution_count": 20,
   "metadata": {},
   "outputs": [
    {
     "name": "stdout",
     "output_type": "stream",
     "text": [
      "Your guess is too low.\n",
      "Your guess is too low.\n",
      "Your guess is too low.\n",
      "Your guess is too low.\n",
      "Your guess is too high.\n",
      "Your guess is too high.\n",
      "Your guess is too low.\n",
      "GAME OVER!\n"
     ]
    }
   ],
   "source": [
    "import random\n",
    "rn = random.randint(0, 100)\n",
    "mt = 7\n",
    "a = 0\n",
    "while a < mt:\n",
    "    g = int(input(\"\"))\n",
    "    a += 1\n",
    "    if g < rn:\n",
    "        print(\"Your guess is too low.\")\n",
    "    elif g > rn:\n",
    "        print(\"Your guess is too high.\")\n",
    "    else:\n",
    "        print(\"You've guessed it right!\" )\n",
    "        break\n",
    "if a == mt and g != rn:\n",
    "    print(f\"GAME OVER!\")"
   ]
  },
  {
   "cell_type": "markdown",
   "metadata": {},
   "source": [
    "Question 4: An Armstrong number of three digits is an integer such that the sum of the cubes of its digits is equal to the number itself. For example, 371 is an Armstrong number\n",
    "Since,\n",
    "33 + 73 + 13 = 371.\n",
    "Write a program to find all Armstrong number in the range of 0 and 999"
   ]
  },
  {
   "cell_type": "code",
   "execution_count": 21,
   "metadata": {},
   "outputs": [
    {
     "name": "stdout",
     "output_type": "stream",
     "text": [
      "Armstrong numbers between 0 and 999 are: [0, 1, 153, 370, 371, 407]\n"
     ]
    }
   ],
   "source": [
    "x = []\n",
    "for i in range(1000):\n",
    "    y = str(i)\n",
    "    sum = 0\n",
    "    for j in y:\n",
    "        sum += int(j) ** 3\n",
    "    if sum == i:\n",
    "        x.append(i)\n",
    "print(\"Armstrong numbers between 0 and 999 are:\", x)"
   ]
  },
  {
   "cell_type": "markdown",
   "metadata": {},
   "source": [
    "1.Write function exclamation() that takes as input a string and returns it with this modification: Every vowel is replaced by four consecutive copies of itself and an exclamation mark (!) is added at the end."
   ]
  },
  {
   "cell_type": "code",
   "execution_count": null,
   "metadata": {},
   "outputs": [],
   "source": [
    "def exclamation(input_string):\n",
    "    v = 'aeiouAEIOU'\n",
    "    a = []\n",
    "    for i in input_string:\n",
    "        if i in v:\n",
    "            a.append(i * 4)\n",
    "        else:\n",
    "            a.append(i)\n",
    "    return ''.join(a) + '!'"
   ]
  },
  {
   "cell_type": "markdown",
   "metadata": {},
   "source": [
    "2.An inversion in a sequence is a pair of entries that are out of order. For example, the characters F and D form an inversion in string 'ABBFHDL' because F appears before D; so do characters H and D. The total number of inversions in a sequence (i.e., the number of pairs that are out of order) is a measure of how unsorted the sequence is. The total number of inversions in 'ABBFHDL' is 2. Implement function inversions() that takes a sequence (i.e., a string) of uppercase characters A through Z and returns the number of inversions in the sequence."
   ]
  },
  {
   "cell_type": "code",
   "execution_count": 23,
   "metadata": {},
   "outputs": [],
   "source": [
    "def inversions(x):\n",
    "    cnt = 0\n",
    "    n = len(x)\n",
    "    for i in range(n):\n",
    "        for j in range(i + 1, n):\n",
    "            if x[i] > x[j]:\n",
    "                cnt += 1\n",
    "    return cnt"
   ]
  },
  {
   "cell_type": "markdown",
   "metadata": {},
   "source": [
    "An elevator is given an input code which it then uses to go up or down floors: \"^\" = go up one floor \"v\" (lower-case v) = go down one floor. The elevator starts on floor 0. Write a generic program that determines the where the lift will end up given a string input."
   ]
  },
  {
   "cell_type": "code",
   "execution_count": 25,
   "metadata": {},
   "outputs": [],
   "source": [
    "def elevator_movement(x):\n",
    "    f = 0\n",
    "    for i in x:\n",
    "        if i == '^':\n",
    "            f += 1\n",
    "        elif i == 'v':\n",
    "            f -= 1 \n",
    "    return f"
   ]
  },
  {
   "cell_type": "markdown",
   "metadata": {},
   "source": [
    "4.Write a program that finds an integer between 1 and 10000 that has the largest number of divisors, and how many divisors does it have? "
   ]
  },
  {
   "cell_type": "code",
   "execution_count": 30,
   "metadata": {},
   "outputs": [
    {
     "name": "stdout",
     "output_type": "stream",
     "text": [
      "([7560, 9240], 64)\n"
     ]
    }
   ],
   "source": [
    "def cdiv(n):\n",
    "    cnt = 0\n",
    "    for i in range(1, int(n**0.5) + 1):\n",
    "        if n % i == 0:\n",
    "            cnt += 1\n",
    "            if i != n // i:\n",
    "                cnt += 1\n",
    "    return cnt\n",
    "\n",
    "def find_max_divisors(l):\n",
    "    mdiv = 0\n",
    "    mdivs = []\n",
    "    for i in range(1, l + 1):\n",
    "        dcnt = cdiv(i)\n",
    "        if dcnt > mdiv:\n",
    "            mdiv = dcnt\n",
    "            mdivs = [i]\n",
    "        elif dcnt == mdiv:\n",
    "            mdivs.append(i)\n",
    "            \n",
    "    return mdivs, mdiv\n",
    "\n",
    "x = 10000\n",
    "print(find_max_divisors(x))\n"
   ]
  }
 ],
 "metadata": {
  "kernelspec": {
   "display_name": "Python 3",
   "language": "python",
   "name": "python3"
  },
  "language_info": {
   "codemirror_mode": {
    "name": "ipython",
    "version": 3
   },
   "file_extension": ".py",
   "mimetype": "text/x-python",
   "name": "python",
   "nbconvert_exporter": "python",
   "pygments_lexer": "ipython3",
   "version": "3.12.3"
  }
 },
 "nbformat": 4,
 "nbformat_minor": 2
}
