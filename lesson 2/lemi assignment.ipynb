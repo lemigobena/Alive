{
 "cells": [
  {
   "cell_type": "markdown",
   "metadata": {},
   "source": [
    "1. Void Functions: Write a function that prints a greeting message. Then call this\n",
    "function three times in your program."
   ]
  },
  {
   "cell_type": "code",
   "execution_count": 1,
   "metadata": {},
   "outputs": [],
   "source": [
    "def greet(name, sex):\n",
    "    if sex == 'male':\n",
    "        print(f\"Greetings Mr. {name}. Welcome!\")\n",
    "    else:\n",
    "        print(f\"Greetings Mrs. {name}. Welcome!\")"
   ]
  },
  {
   "cell_type": "code",
   "execution_count": 7,
   "metadata": {},
   "outputs": [
    {
     "name": "stdout",
     "output_type": "stream",
     "text": [
      "Greetings Mrs. fita. Welcome!\n",
      "None\n",
      "Greetings Mr. fita. Welcome!\n",
      "None\n",
      "Greetings Mr. Lemi. Welcome!\n",
      "None\n"
     ]
    }
   ],
   "source": [
    "print(greet(name= 'fita', sex = 'female'))\n",
    "print(greet(name= 'fita', sex = 'male'))\n",
    "print(greet(name= 'Lemi', sex = 'male'))"
   ]
  },
  {
   "cell_type": "markdown",
   "metadata": {},
   "source": [
    "2. Fruitful Functions: Write a function that takes two integers as arguments and returns their product. Call this function with different pairs of numbers and print the results."
   ]
  },
  {
   "cell_type": "code",
   "execution_count": 5,
   "metadata": {},
   "outputs": [],
   "source": [
    "def pd(a, b):\n",
    "    return a*b"
   ]
  },
  {
   "cell_type": "code",
   "execution_count": 6,
   "metadata": {},
   "outputs": [
    {
     "name": "stdout",
     "output_type": "stream",
     "text": [
      "175699724\n",
      "16832\n",
      "24124\n"
     ]
    }
   ],
   "source": [
    "print(pd(a = 26326, b = 6674))\n",
    "print(pd(a = 263, b = 64))\n",
    "print(pd(a = 326, b = 74))"
   ]
  },
  {
   "cell_type": "markdown",
   "metadata": {},
   "source": [
    "3. Boolean Functions: Write a function that takes an integer and returns True if it is a prime number, and False otherwise. Test this function with various numbers."
   ]
  },
  {
   "cell_type": "code",
   "execution_count": 8,
   "metadata": {},
   "outputs": [],
   "source": [
    "def number(x):\n",
    "    cnt = 0\n",
    "    if x==1 or x==0:\n",
    "        return False\n",
    "    for i in range(1, x+1):\n",
    "        if x % i == 0:\n",
    "            cnt = cnt + 1\n",
    "        else:\n",
    "            continue\n",
    "    if cnt > 2:\n",
    "        return(False)\n",
    "    else:\n",
    "        return(True)"
   ]
  },
  {
   "cell_type": "code",
   "execution_count": 13,
   "metadata": {},
   "outputs": [
    {
     "name": "stdout",
     "output_type": "stream",
     "text": [
      "True\n"
     ]
    }
   ],
   "source": [
    "print(number(int(input())))"
   ]
  },
  {
   "cell_type": "markdown",
   "metadata": {},
   "source": [
    "4. Recursive Functions: Write a function that returns the nth Fibonacci number using recursion. Test this function with a few different values of n."
   ]
  },
  {
   "cell_type": "code",
   "execution_count": 18,
   "metadata": {},
   "outputs": [],
   "source": [
    "def fb(n):\n",
    "    if n==1 or n==2:\n",
    "        return 1\n",
    "    else:\n",
    "        return fb(n-1) + fb(n-2)"
   ]
  },
  {
   "cell_type": "code",
   "execution_count": 21,
   "metadata": {},
   "outputs": [
    {
     "name": "stdout",
     "output_type": "stream",
     "text": [
      "13\n"
     ]
    }
   ],
   "source": [
    "print(fb(7))"
   ]
  },
  {
   "cell_type": "markdown",
   "metadata": {},
   "source": [
    "5. Default Parameters: Imagine you are developing a function to calculate the total cost of an order. The function should take the price of an item and the quantity as required parameters. Additionally, it should have an optional boolean parameter apply discount with a default value of False. If apply discount is True, a 10% discount should be applied to the total cost. Implement this function and demonstrate its usage with both default and non-default values for the apply discount parameter."
   ]
  },
  {
   "cell_type": "code",
   "execution_count": 26,
   "metadata": {},
   "outputs": [],
   "source": [
    "def calculate_total_cost(price, quantity, apply_discount=False):\n",
    "    discount = int(price)*int(quantity) * 0.1\n",
    "    if apply_discount== False:\n",
    "        return int(price)*int(quantity)\n",
    "    else:\n",
    "        return int(price)*int(quantity) - int(discount)"
   ]
  },
  {
   "cell_type": "code",
   "execution_count": 27,
   "metadata": {},
   "outputs": [
    {
     "name": "stdout",
     "output_type": "stream",
     "text": [
      "1000\n",
      "900\n"
     ]
    }
   ],
   "source": [
    "print(calculate_total_cost(price=100, quantity=10))\n",
    "print(calculate_total_cost(price=100, quantity=10, apply_discount=True))"
   ]
  },
  {
   "cell_type": "markdown",
   "metadata": {},
   "source": [
    "6. Keyword Arguments: Write a function that prints a summary of a book purchase. The function should take the title of the book, the author’s name, and the price as required parameters. Use keyword arguments to call this function with the parameters in different orders, demonstrating that the function can handle them correctly."
   ]
  },
  {
   "cell_type": "code",
   "execution_count": 31,
   "metadata": {},
   "outputs": [],
   "source": [
    "def print_book_summary(title, author, price):\n",
    "    print(f\"{author} wrote a book entitled with {title} and sold it with {price}$.\")"
   ]
  },
  {
   "cell_type": "code",
   "execution_count": 32,
   "metadata": {},
   "outputs": [
    {
     "name": "stdout",
     "output_type": "stream",
     "text": [
      "James Clear wrote a book entitled with Atomic Habits and sold it with 20$.\n",
      "None\n",
      "James Clear wrote a book entitled with Atomic Habits and sold it with 20$.\n",
      "None\n",
      "James Clear wrote a book entitled with Atomic Habits and sold it with 20$.\n",
      "None\n"
     ]
    }
   ],
   "source": [
    "print(print_book_summary(title= 'Atomic Habits', author= 'James Clear', price= 20))\n",
    "print(print_book_summary(price= 20, title= 'Atomic Habits', author= 'James Clear'))\n",
    "print(print_book_summary(author= 'James Clear', title= 'Atomic Habits', price= 20))"
   ]
  },
  {
   "cell_type": "markdown",
   "metadata": {},
   "source": [
    "7. Unknown Number of Parameters: Write a function that takes an unknown number of numerical arguments and returns their average. Test this function with different sets of numbers."
   ]
  },
  {
   "cell_type": "code",
   "execution_count": 89,
   "metadata": {},
   "outputs": [
    {
     "name": "stdout",
     "output_type": "stream",
     "text": [
      "2.0\n"
     ]
    }
   ],
   "source": [
    "x = []\n",
    "x = input().split()\n",
    "i = 0\n",
    "for i in range(0, len(x)):\n",
    "    x[i] = int(x[i])\n",
    "def sum_numbers(x):\n",
    "    sum = 0\n",
    "    for a in x:\n",
    "        sum = sum + a\n",
    "    return sum\n",
    "def number_of_list(x):\n",
    "    cnt = 0\n",
    "    for i in x:\n",
    "        cnt = cnt + 1\n",
    "    return cnt\n",
    "def avg(x):\n",
    "    return sum_numbers(x)/number_of_list(x)\n",
    "print(avg(x))"
   ]
  },
  {
   "cell_type": "markdown",
   "metadata": {},
   "source": [
    "8. Combined Parameters: Write a function that accepts a mix of positional and keyword arguments to create a summary of a student’s performance. The function should take the student’s name as a positional argument and their scores in different subjects as keyword arguments. Call this function with various arguments to create different summaries."
   ]
  },
  {
   "cell_type": "code",
   "execution_count": 93,
   "metadata": {},
   "outputs": [],
   "source": [
    "def student_performance_summary(name, **scores):\n",
    "    statement = f\"student name: {name}\\n\"\n",
    "    for subject, score in scores.items():\n",
    "        statement = statement + f\"{subject}:{score}\\n\"\n",
    "    return statement"
   ]
  },
  {
   "cell_type": "code",
   "execution_count": 95,
   "metadata": {},
   "outputs": [
    {
     "name": "stdout",
     "output_type": "stream",
     "text": [
      "student name: Lemi\n",
      "Math:95\n",
      "English:58\n",
      "Science:44\n",
      "\n",
      "student name: Fita\n",
      "Math:95\n",
      "English:90\n",
      "Science:45\n",
      "\n",
      "student name: Abdi\n",
      "Math:85\n",
      "English:56\n",
      "Science:78\n",
      "\n"
     ]
    }
   ],
   "source": [
    "print(student_performance_summary(name = \"Lemi\", Math=95, English=58, Science=44))\n",
    "print(student_performance_summary(name = \"Fita\", Math=95, English=90, Science=45))\n",
    "print(student_performance_summary(name = \"Abdi\", Math=85, English=56, Science=78))"
   ]
  },
  {
   "cell_type": "markdown",
   "metadata": {},
   "source": [
    "1. Write a function that will accept two numbers and print the sum, difference, product, and quotient of the numbers."
   ]
  },
  {
   "cell_type": "code",
   "execution_count": 4,
   "metadata": {},
   "outputs": [],
   "source": [
    "def operation(x, y):\n",
    "    print('the sum is:        ' + str(int( x+y)))\n",
    "    print('the product is:    ' + str(int( x*y)))\n",
    "    print('the difference is: ' + str(int( x-y)))\n",
    "    print('the quotient is:   ' + str(int( x/y)))"
   ]
  },
  {
   "cell_type": "code",
   "execution_count": 5,
   "metadata": {},
   "outputs": [
    {
     "name": "stdout",
     "output_type": "stream",
     "text": [
      "the sum is:        5\n",
      "the product is:    6\n",
      "the difference is: 1\n",
      "the quotient is:   1\n",
      "None\n"
     ]
    }
   ],
   "source": [
    "print(operation(3, 2))"
   ]
  },
  {
   "cell_type": "markdown",
   "metadata": {},
   "source": [
    "2. Write a function that converts a given temperature from Celsius to Fahrenheit."
   ]
  },
  {
   "cell_type": "code",
   "execution_count": 6,
   "metadata": {},
   "outputs": [],
   "source": [
    "def temp(x):\n",
    "    return 1.8*x + 32"
   ]
  },
  {
   "cell_type": "code",
   "execution_count": 8,
   "metadata": {},
   "outputs": [
    {
     "name": "stdout",
     "output_type": "stream",
     "text": [
      "32\n"
     ]
    }
   ],
   "source": [
    "print(int(temp(0)))"
   ]
  },
  {
   "cell_type": "markdown",
   "metadata": {},
   "source": [
    "3. Write a function that calculates the factorial of a given number."
   ]
  },
  {
   "cell_type": "code",
   "execution_count": 12,
   "metadata": {},
   "outputs": [],
   "source": [
    "def factorial(x):\n",
    "    pd = 1\n",
    "    for i in range(1, x+1):\n",
    "        pd = pd*i\n",
    "    return pd"
   ]
  },
  {
   "cell_type": "code",
   "execution_count": 13,
   "metadata": {},
   "outputs": [
    {
     "name": "stdout",
     "output_type": "stream",
     "text": [
      "120\n"
     ]
    }
   ],
   "source": [
    "print(factorial(5))"
   ]
  },
  {
   "cell_type": "markdown",
   "metadata": {},
   "source": [
    "4. Write a function that calculates the sum of all natural numbers up to a given number."
   ]
  },
  {
   "cell_type": "code",
   "execution_count": 14,
   "metadata": {},
   "outputs": [],
   "source": [
    "def n_sum(n):\n",
    "    sum = 0\n",
    "    for i in range(1,n+1):\n",
    "        sum = sum + i\n",
    "    return sum"
   ]
  },
  {
   "cell_type": "code",
   "execution_count": 15,
   "metadata": {},
   "outputs": [
    {
     "name": "stdout",
     "output_type": "stream",
     "text": [
      "500500\n"
     ]
    }
   ],
   "source": [
    "print(n_sum(1000))"
   ]
  },
  {
   "cell_type": "markdown",
   "metadata": {},
   "source": [
    "5. Write a function that calculates the sum of x^n for given x and n."
   ]
  },
  {
   "cell_type": "code",
   "execution_count": 20,
   "metadata": {},
   "outputs": [],
   "source": [
    "def exp(x, n):\n",
    "    sum = 0\n",
    "    for i in range(1, n+1):\n",
    "        sum = sum + x**i\n",
    "    return sum"
   ]
  },
  {
   "cell_type": "code",
   "execution_count": 21,
   "metadata": {},
   "outputs": [
    {
     "name": "stdout",
     "output_type": "stream",
     "text": [
      "2800\n"
     ]
    }
   ],
   "source": [
    "print(exp(7, 4))"
   ]
  },
  {
   "cell_type": "markdown",
   "metadata": {},
   "source": [
    "6. Write a function that calculates e^x using its power series representation up to the first 10 terms."
   ]
  },
  {
   "cell_type": "code",
   "execution_count": 15,
   "metadata": {},
   "outputs": [],
   "source": [
    "def factorial(n):\n",
    "    pd = 1\n",
    "    for i in range(1, n+1):\n",
    "        pd = pd*i\n",
    "    return pd"
   ]
  },
  {
   "cell_type": "code",
   "execution_count": 24,
   "metadata": {},
   "outputs": [],
   "source": [
    "def nat_exp(n):\n",
    "    sum = 0\n",
    "    x = int(input())\n",
    "    for n in range(10):\n",
    "        div = (x ** n) / factorial(n)\n",
    "        sum = sum + div\n",
    "    return sum"
   ]
  },
  {
   "cell_type": "code",
   "execution_count": 25,
   "metadata": {},
   "outputs": [
    {
     "name": "stdout",
     "output_type": "stream",
     "text": [
      "2136.226807760141\n"
     ]
    }
   ],
   "source": [
    "print(nat_exp(10))"
   ]
  }
 ],
 "metadata": {
  "kernelspec": {
   "display_name": "Python 3",
   "language": "python",
   "name": "python3"
  },
  "language_info": {
   "codemirror_mode": {
    "name": "ipython",
    "version": 3
   },
   "file_extension": ".py",
   "mimetype": "text/x-python",
   "name": "python",
   "nbconvert_exporter": "python",
   "pygments_lexer": "ipython3",
   "version": "3.12.3"
  }
 },
 "nbformat": 4,
 "nbformat_minor": 2
}
