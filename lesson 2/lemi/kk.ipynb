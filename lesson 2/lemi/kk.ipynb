{
 "cells": [
  {
   "cell_type": "markdown",
   "metadata": {},
   "source": [
    "88"
   ]
  },
  {
   "cell_type": "code",
   "execution_count": 33,
   "metadata": {},
   "outputs": [],
   "source": [
    "class Solution(object):\n",
    "    def merge(self, nums1, m, nums2, n):\n",
    "        \"\"\"\n",
    "        :type nums1: List[int]\n",
    "        :type m: int\n",
    "        :type nums2: List[int]\n",
    "        :type n: int\n",
    "        :rtype: None Do not return anything, modify nums1 in-place instead.\n",
    "        \"\"\"\n",
    "        a = []\n",
    "        for i in range(m):\n",
    "            a.append(nums1[i])\n",
    "        for i in range(n):\n",
    "            a.append(nums2[i])\n",
    "        a.sort()\n",
    "        return a"
   ]
  },
  {
   "cell_type": "code",
   "execution_count": 35,
   "metadata": {},
   "outputs": [
    {
     "name": "stdout",
     "output_type": "stream",
     "text": [
      "[1, 2, 2, 3, 5, 6]\n"
     ]
    }
   ],
   "source": [
    "print(Solution().merge([1, 2, 3, 0, 0, 0], 3, [2, 5, 6], 3))"
   ]
  },
  {
   "cell_type": "markdown",
   "metadata": {},
   "source": [
    "normal"
   ]
  },
  {
   "cell_type": "code",
   "execution_count": 38,
   "metadata": {},
   "outputs": [
    {
     "name": "stdout",
     "output_type": "stream",
     "text": [
      "You will get home for breakfast at: 07:30 AM\n"
     ]
    }
   ],
   "source": [
    "from datetime import datetime, timedelta\n",
    "\n",
    "def calculate_arrival_time(departure_time, easy_pace_1, tempo_pace, easy_pace_2):\n",
    "    # Convert string time to datetime object\n",
    "    departure = datetime.strptime(departure_time, '%I:%M %p')\n",
    "\n",
    "    # Calculate total running time in minutes\n",
    "    total_time_minutes = easy_pace_1 + tempo_pace + easy_pace_2\n",
    "\n",
    "    # Convert total time to timedelta\n",
    "    total_time_delta = timedelta(minutes=total_time_minutes)\n",
    "\n",
    "    # Calculate arrival time\n",
    "    arrival_time = departure + total_time_delta\n",
    "\n",
    "    return arrival_time.strftime('%I:%M %p')\n",
    "\n",
    "# Running segments in minutes\n",
    "easy_pace_1 = 8 + 15/60  # 1 mile at 8:15\n",
    "tempo_pace = (3 * (7 + 12/60))  # 3 miles at 7:12\n",
    "easy_pace_2 = 8 + 15/60  # 1 mile at 8:15\n",
    "\n",
    "# Departure time\n",
    "departure_time = '6:52 AM'\n",
    "\n",
    "# Calculate arrival time\n",
    "arrival_time = calculate_arrival_time(departure_time, easy_pace_1, tempo_pace, easy_pace_2)\n",
    "\n",
    "print(f'You will get home for breakfast at: {arrival_time}')\n"
   ]
  },
  {
   "cell_type": "code",
   "execution_count": 3,
   "metadata": {},
   "outputs": [
    {
     "ename": "NameError",
     "evalue": "name 'i' is not defined",
     "output_type": "error",
     "traceback": [
      "\u001b[1;31m---------------------------------------------------------------------------\u001b[0m",
      "\u001b[1;31mNameError\u001b[0m                                 Traceback (most recent call last)",
      "Cell \u001b[1;32mIn[3], line 1\u001b[0m\n\u001b[1;32m----> 1\u001b[0m \u001b[38;5;28;01mwhile\u001b[39;00m \u001b[43mi\u001b[49m \u001b[38;5;241m<\u001b[39m \u001b[38;5;241m11\u001b[39m:\n\u001b[0;32m      2\u001b[0m     \u001b[38;5;28mprint\u001b[39m(i)\n",
      "\u001b[1;31mNameError\u001b[0m: name 'i' is not defined"
     ]
    }
   ],
   "source": [
    "while i < 11:\n",
    "    print(i)"
   ]
  }
 ],
 "metadata": {
  "kernelspec": {
   "display_name": "Python 3",
   "language": "python",
   "name": "python3"
  },
  "language_info": {
   "codemirror_mode": {
    "name": "ipython",
    "version": 3
   },
   "file_extension": ".py",
   "mimetype": "text/x-python",
   "name": "python",
   "nbconvert_exporter": "python",
   "pygments_lexer": "ipython3",
   "version": "3.12.3"
  }
 },
 "nbformat": 4,
 "nbformat_minor": 2
}
