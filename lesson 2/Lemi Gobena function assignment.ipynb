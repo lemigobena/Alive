{
 "cells": [
  {
   "cell_type": "markdown",
   "metadata": {},
   "source": [
    "Part I"
   ]
  },
  {
   "cell_type": "markdown",
   "metadata": {},
   "source": [
    "1. Void Functions: Write a function that prints a greeting message. Then call this\n",
    "function three times in your program."
   ]
  },
  {
   "cell_type": "code",
   "execution_count": 22,
   "metadata": {},
   "outputs": [],
   "source": [
    "def greet(name, sex):\n",
    "    if sex == 'male':\n",
    "        print(f\"Greetings Mr. {name}. Welcome!\")\n",
    "    else:\n",
    "        print(f\"Greetings Mrs. {name}. Welcome!\")"
   ]
  },
  {
   "cell_type": "code",
   "execution_count": 24,
   "metadata": {},
   "outputs": [
    {
     "name": "stdout",
     "output_type": "stream",
     "text": [
      "Greetings Mrs. Sina. Welcome!\n",
      "None\n",
      "Greetings Mr. Fita. Welcome!\n",
      "None\n",
      "Greetings Mr. Lemi. Welcome!\n",
      "None\n"
     ]
    }
   ],
   "source": [
    "print(greet(name= 'Sina', sex = 'female'))\n",
    "print(greet(name= 'Fita', sex = 'male'))\n",
    "print(greet(name= 'Lemi', sex = 'male'))"
   ]
  },
  {
   "cell_type": "markdown",
   "metadata": {},
   "source": [
    "2. Fruitful Functions: Write a function that takes two integers as arguments and returns their product. Call this function with different pairs of numbers and print the results."
   ]
  },
  {
   "cell_type": "code",
   "execution_count": 25,
   "metadata": {},
   "outputs": [],
   "source": [
    "def pd(a, b):\n",
    "    return a*b"
   ]
  },
  {
   "cell_type": "code",
   "execution_count": 26,
   "metadata": {},
   "outputs": [
    {
     "name": "stdout",
     "output_type": "stream",
     "text": [
      "175699724\n",
      "16832\n",
      "24124\n"
     ]
    }
   ],
   "source": [
    "print(pd(a = 26326, b = 6674))\n",
    "print(pd(a = 263, b = 64))\n",
    "print(pd(a = 326, b = 74))"
   ]
  },
  {
   "cell_type": "markdown",
   "metadata": {},
   "source": [
    "3. Boolean Functions: Write a function that takes an integer and returns True if it is a prime number, and False otherwise. Test this function with various numbers."
   ]
  },
  {
   "cell_type": "code",
   "execution_count": 27,
   "metadata": {},
   "outputs": [],
   "source": [
    "def number(x):\n",
    "    cnt = 0\n",
    "    if x==1 or x==0:\n",
    "        return False\n",
    "    for i in range(1, x+1):\n",
    "        if x % i == 0:\n",
    "            cnt = cnt + 1\n",
    "        else:\n",
    "            continue\n",
    "    if cnt > 2:\n",
    "        return(False)\n",
    "    else:\n",
    "        return(True)"
   ]
  },
  {
   "cell_type": "code",
   "execution_count": 31,
   "metadata": {},
   "outputs": [
    {
     "name": "stdout",
     "output_type": "stream",
     "text": [
      "True\n"
     ]
    }
   ],
   "source": [
    "print(number(int(input())))"
   ]
  },
  {
   "cell_type": "markdown",
   "metadata": {},
   "source": [
    "4. Recursive Functions: Write a function that returns the nth Fibonacci number using recursion. Test this function with a few different values of n."
   ]
  },
  {
   "cell_type": "code",
   "execution_count": 32,
   "metadata": {},
   "outputs": [],
   "source": [
    "def fb(n):\n",
    "    if n==1 or n==2:\n",
    "        return 1\n",
    "    else:\n",
    "        return fb(n-1) + fb(n-2)"
   ]
  },
  {
   "cell_type": "code",
   "execution_count": 34,
   "metadata": {},
   "outputs": [
    {
     "name": "stdout",
     "output_type": "stream",
     "text": [
      "55\n"
     ]
    }
   ],
   "source": [
    "x = int(input())\n",
    "print(fb(x))"
   ]
  },
  {
   "cell_type": "markdown",
   "metadata": {},
   "source": [
    "5. Default Parameters: Imagine you are developing a function to calculate the total cost of an order. The function should take the price of an item and the quantity as required parameters. Additionally, it should have an optional boolean parameter apply discount with a default value of False. If apply discount is True, a 10% discount should be applied to the total cost. Implement this function and demonstrate its usage with both default and non-default values for the apply discount parameter."
   ]
  },
  {
   "cell_type": "code",
   "execution_count": 39,
   "metadata": {},
   "outputs": [],
   "source": [
    "def cst(price, quantity, ap_dis=False):\n",
    "    dis = int(price)*int(quantity) * 0.1\n",
    "    if ap_dis== False:\n",
    "        return int(price)*int(quantity)\n",
    "    else:\n",
    "        return int(price)*int(quantity) - int(dis)"
   ]
  },
  {
   "cell_type": "code",
   "execution_count": 41,
   "metadata": {},
   "outputs": [
    {
     "name": "stdout",
     "output_type": "stream",
     "text": [
      "7546\n",
      "6792\n"
     ]
    }
   ],
   "source": [
    "price = int(input())\n",
    "quantity = int(input())\n",
    "print(cst(price, quantity))\n",
    "print(cst(price, quantity, ap_dis=True))"
   ]
  },
  {
   "cell_type": "markdown",
   "metadata": {},
   "source": [
    "6. Keyword Arguments: Write a function that prints a summary of a book purchase. The function should take the title of the book, the author’s name, and the price as required parameters. Use keyword arguments to call this function with the parameters in different orders, demonstrating that the function can handle them correctly."
   ]
  },
  {
   "cell_type": "code",
   "execution_count": 51,
   "metadata": {},
   "outputs": [],
   "source": [
    "def bk_sm(title, author, price):\n",
    "    print(f\"{author} wrote a book entitled with {title} and sold it with {price} birr.\")"
   ]
  },
  {
   "cell_type": "code",
   "execution_count": 52,
   "metadata": {},
   "outputs": [
    {
     "name": "stdout",
     "output_type": "stream",
     "text": [
      "Abiy Ahmed wrote a book entitled with Medemer and sold it with 200 birr.\n",
      "None\n",
      "Afework Tekle wrote a book entitled with Tobiya and sold it with 250 birr.\n",
      "None\n",
      "Namo Dandi wrote a book entitled with Godanisa and sold it with 230 birr.\n",
      "None\n"
     ]
    }
   ],
   "source": [
    "print(bk_sm(title= 'Medemer', author= 'Abiy Ahmed', price= 200))\n",
    "print(bk_sm(price= 250, title= 'Tobiya', author= 'Afework Tekle'))\n",
    "print(bk_sm(author= 'Namo Dandi', title= 'Godanisa', price= 230))"
   ]
  },
  {
   "cell_type": "markdown",
   "metadata": {},
   "source": [
    "7. Unknown Number of Parameters: Write a function that takes an unknown number of numerical arguments and returns their average. Test this function with different sets of numbers."
   ]
  },
  {
   "cell_type": "code",
   "execution_count": 45,
   "metadata": {},
   "outputs": [
    {
     "name": "stdout",
     "output_type": "stream",
     "text": [
      "4.5\n"
     ]
    }
   ],
   "source": [
    "#Insert numbers only by putting a space between the different elements or numbers. Then hit the enter button!\n",
    "#eg: 1 2 3 44 5 6 77 8 99\n",
    "x = []\n",
    "x = input().split()\n",
    "i = 0\n",
    "for i in range(0, len(x)):\n",
    "    x[i] = int(x[i])\n",
    "def sm(x):\n",
    "    sum = 0\n",
    "    for a in x:\n",
    "        sum = sum + a\n",
    "    return sum\n",
    "def num(x):\n",
    "    cnt = 0\n",
    "    for i in x:\n",
    "        cnt = cnt + 1\n",
    "    return cnt\n",
    "def avg(x):\n",
    "    return sm(x)/num(x)\n",
    "print(avg(x))"
   ]
  },
  {
   "cell_type": "markdown",
   "metadata": {},
   "source": [
    "8. Combined Parameters: Write a function that accepts a mix of positional and keyword arguments to create a summary of a student’s performance. The function should take the student’s name as a positional argument and their scores in different subjects as keyword arguments. Call this function with various arguments to create different summaries."
   ]
  },
  {
   "cell_type": "code",
   "execution_count": 54,
   "metadata": {},
   "outputs": [],
   "source": [
    "def perf(name, **scores):\n",
    "    stm = f\"student name: {name}\\n\"\n",
    "    for sub, score in scores.items():\n",
    "        stm = stm + f\"{sub}:{score}\\n\"\n",
    "    return stm"
   ]
  },
  {
   "cell_type": "code",
   "execution_count": 55,
   "metadata": {},
   "outputs": [
    {
     "name": "stdout",
     "output_type": "stream",
     "text": [
      "student name: Lemi\n",
      "Math:95\n",
      "English:58\n",
      "Science:44\n",
      "\n",
      "student name: Fita\n",
      "Math:95\n",
      "English:90\n",
      "Science:45\n",
      "\n",
      "student name: Abdi\n",
      "Math:85\n",
      "English:56\n",
      "Science:78\n",
      "\n"
     ]
    }
   ],
   "source": [
    "print(perf(name = \"Lemi\", Math=95, English=58, Science=44))\n",
    "print(perf(name = \"Fita\", Math=95, English=90, Science=45))\n",
    "print(perf(name = \"Abdi\", Math=85, English=56, Science=78))"
   ]
  },
  {
   "cell_type": "markdown",
   "metadata": {},
   "source": [
    "Part II"
   ]
  },
  {
   "cell_type": "markdown",
   "metadata": {},
   "source": [
    "1. Write a function that will accept two numbers and print the sum, difference, product, and quotient of the numbers."
   ]
  },
  {
   "cell_type": "code",
   "execution_count": 20,
   "metadata": {},
   "outputs": [],
   "source": [
    "def operation(x, y):\n",
    "    print('the sum is:        ' + str( x+y))\n",
    "    print('the product is:    ' + str( x*y))\n",
    "    print('the difference is: ' + str( x-y))\n",
    "    print('the quotient is:   ' + str( x/y))"
   ]
  },
  {
   "cell_type": "code",
   "execution_count": 21,
   "metadata": {},
   "outputs": [
    {
     "name": "stdout",
     "output_type": "stream",
     "text": [
      "the sum is:        8.0\n",
      "the product is:    15.0\n",
      "the difference is: -2.0\n",
      "the quotient is:   0.6\n",
      "None\n"
     ]
    }
   ],
   "source": [
    "x = float(input())\n",
    "y = float(input())\n",
    "print(operation(x, y))"
   ]
  },
  {
   "cell_type": "markdown",
   "metadata": {},
   "source": [
    "2. Write a function that converts a given temperature from Celsius to Fahrenheit."
   ]
  },
  {
   "cell_type": "code",
   "execution_count": 14,
   "metadata": {},
   "outputs": [],
   "source": [
    "def temp(x):\n",
    "    return 1.8*x + 32"
   ]
  },
  {
   "cell_type": "code",
   "execution_count": 15,
   "metadata": {},
   "outputs": [
    {
     "name": "stdout",
     "output_type": "stream",
     "text": [
      "32.0\n"
     ]
    }
   ],
   "source": [
    "x = int(input())\n",
    "print(temp(x))"
   ]
  },
  {
   "cell_type": "markdown",
   "metadata": {},
   "source": [
    "3. Write a function that calculates the factorial of a given number."
   ]
  },
  {
   "cell_type": "code",
   "execution_count": 11,
   "metadata": {},
   "outputs": [],
   "source": [
    "def factorial(x):\n",
    "    pd = 1\n",
    "    if x == 0:\n",
    "        return 1\n",
    "    for i in range(1, x+1):\n",
    "        pd = pd*i\n",
    "    return pd"
   ]
  },
  {
   "cell_type": "code",
   "execution_count": 13,
   "metadata": {},
   "outputs": [
    {
     "name": "stdout",
     "output_type": "stream",
     "text": [
      "120\n"
     ]
    }
   ],
   "source": [
    "x = int(input())\n",
    "print(factorial(x))"
   ]
  },
  {
   "cell_type": "markdown",
   "metadata": {},
   "source": [
    "4. Write a function that calculates the sum of all natural numbers up to a given number."
   ]
  },
  {
   "cell_type": "code",
   "execution_count": 8,
   "metadata": {},
   "outputs": [],
   "source": [
    "def n_sum(n):\n",
    "    sum = 0\n",
    "    for i in range(1,n+1):\n",
    "        sum = sum + i\n",
    "    return sum"
   ]
  },
  {
   "cell_type": "code",
   "execution_count": 9,
   "metadata": {},
   "outputs": [
    {
     "name": "stdout",
     "output_type": "stream",
     "text": [
      "15\n"
     ]
    }
   ],
   "source": [
    "x = int(input())\n",
    "print(n_sum(x))"
   ]
  },
  {
   "cell_type": "markdown",
   "metadata": {},
   "source": [
    "5. Write a function that calculates the sum of x^n for given x and n."
   ]
  },
  {
   "cell_type": "code",
   "execution_count": 6,
   "metadata": {},
   "outputs": [],
   "source": [
    "def exp(x, n):\n",
    "    sum = 0\n",
    "    for i in range(n+1):\n",
    "        sum = sum + x**i\n",
    "    return sum"
   ]
  },
  {
   "cell_type": "code",
   "execution_count": 7,
   "metadata": {},
   "outputs": [
    {
     "name": "stdout",
     "output_type": "stream",
     "text": [
      "21\n"
     ]
    }
   ],
   "source": [
    "x = int(input())\n",
    "n = int(input())\n",
    "print(exp(x, n))"
   ]
  },
  {
   "cell_type": "markdown",
   "metadata": {},
   "source": [
    "6. Write a function that calculates e^x using its power series representation up to the first 10 terms."
   ]
  },
  {
   "cell_type": "code",
   "execution_count": 47,
   "metadata": {},
   "outputs": [],
   "source": [
    "def factorial(x):\n",
    "    pd = 1\n",
    "    if x == 0:\n",
    "        return 1\n",
    "    for i in range(1, x+1):\n",
    "        pd = pd*i\n",
    "    return pd\n",
    "def nexp(x, terms = 10):\n",
    "    sum = 0\n",
    "    pd = 1\n",
    "    for n in range(1000):\n",
    "        sum = sum + (x ** n) / int(factorial(n))\n",
    "        n = n+1\n",
    "    return sum"
   ]
  },
  {
   "cell_type": "code",
   "execution_count": 48,
   "metadata": {},
   "outputs": [
    {
     "name": "stdout",
     "output_type": "stream",
     "text": [
      "22026.46579480671\n"
     ]
    }
   ],
   "source": [
    "a = int(input())\n",
    "print(nexp(a))"
   ]
  },
  {
   "cell_type": "markdown",
   "metadata": {},
   "source": [
    "7. Calculate the value of sin(x) for a given x up to the first 10 terms of the series."
   ]
  },
  {
   "cell_type": "code",
   "execution_count": 63,
   "metadata": {},
   "outputs": [],
   "source": [
    "def factorial(x):\n",
    "    pd = 1\n",
    "    if x == 0:\n",
    "        return 1\n",
    "    for i in range(1, x+1):\n",
    "        pd = pd*i\n",
    "    return pd\n",
    "def sin(x, terms=10):\n",
    "    sum = 0\n",
    "    for n in range(terms):\n",
    "        sum = sum + ((-1) ** n) * ((x ** (2 * n + 1)) / (factorial(2 * n + 1)))\n",
    "    return sum"
   ]
  },
  {
   "cell_type": "code",
   "execution_count": 66,
   "metadata": {},
   "outputs": [
    {
     "name": "stdout",
     "output_type": "stream",
     "text": [
      "-0.004222459690225881\n"
     ]
    }
   ],
   "source": [
    "x = float(input())\n",
    "print(sin(x))"
   ]
  },
  {
   "cell_type": "markdown",
   "metadata": {},
   "source": [
    "8. Write a function that calculates cos(x) using its power series representation up to the first 10 terms."
   ]
  },
  {
   "cell_type": "code",
   "execution_count": 67,
   "metadata": {},
   "outputs": [],
   "source": [
    "def factorial(x):\n",
    "    pd = 1\n",
    "    if x == 0:\n",
    "        return 1\n",
    "    for i in range(1, x+1):\n",
    "        pd = pd*i\n",
    "    return pd\n",
    "def cos(x, terms=10):\n",
    "    sum = 0\n",
    "    for n in range(terms):\n",
    "        sum = sum + ((-1) ** n) * ((x ** (2 * n)) / (factorial(2 * n)))\n",
    "    return sum"
   ]
  },
  {
   "cell_type": "code",
   "execution_count": 70,
   "metadata": {},
   "outputs": [
    {
     "name": "stdout",
     "output_type": "stream",
     "text": [
      "0.9965511358424727\n"
     ]
    }
   ],
   "source": [
    "x = float(input())\n",
    "print(cos(x))"
   ]
  },
  {
   "cell_type": "markdown",
   "metadata": {},
   "source": [
    "9. Write a program that calculates the square root of a given number using the Newton Raphson method."
   ]
  },
  {
   "cell_type": "code",
   "execution_count": 10,
   "metadata": {},
   "outputs": [],
   "source": [
    "def sqrt(S, tolerance=1e-10):\n",
    "    x = S / 2.0\n",
    "    for i in range(1000):\n",
    "        y = 0.5 * (x + S / x)\n",
    "        if abs(y - x) < tolerance:\n",
    "            return y\n",
    "        x = y\n",
    "    return x"
   ]
  },
  {
   "cell_type": "code",
   "execution_count": 11,
   "metadata": {},
   "outputs": [
    {
     "name": "stdout",
     "output_type": "stream",
     "text": [
      "10.0\n"
     ]
    }
   ],
   "source": [
    "S = float(input())\n",
    "print(sqrt(S))"
   ]
  }
 ],
 "metadata": {
  "kernelspec": {
   "display_name": "Python 3",
   "language": "python",
   "name": "python3"
  },
  "language_info": {
   "codemirror_mode": {
    "name": "ipython",
    "version": 3
   },
   "file_extension": ".py",
   "mimetype": "text/x-python",
   "name": "python",
   "nbconvert_exporter": "python",
   "pygments_lexer": "ipython3",
   "version": "3.12.3"
  }
 },
 "nbformat": 4,
 "nbformat_minor": 2
}
